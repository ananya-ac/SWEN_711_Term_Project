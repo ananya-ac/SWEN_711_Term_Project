{
 "cells": [
  {
   "cell_type": "markdown",
   "metadata": {},
   "source": [
    "#### This is a notebook made for designing a 4 x 4 grid system of cabs and riders "
   ]
  },
  {
   "cell_type": "markdown",
   "metadata": {},
   "source": [
    "##### First we design a grid where the demand request is fixed"
   ]
  },
  {
   "cell_type": "code",
   "execution_count": 1,
   "metadata": {},
   "outputs": [],
   "source": [
    "import numpy as np"
   ]
  },
  {
   "cell_type": "code",
   "execution_count": 2,
   "metadata": {},
   "outputs": [],
   "source": [
    "import pdb"
   ]
  },
  {
   "cell_type": "code",
   "execution_count": 3,
   "metadata": {},
   "outputs": [],
   "source": [
    "class Car:\n",
    "    \"\"\"A car maybe assigned a trip, otherwise it idles or \n",
    "        repositions to a new zone\"\"\"\n",
    "    \n",
    "    def __init__(self, zone) -> None:\n",
    "        \n",
    "        self.on_trip = False\n",
    "        self.trip = None\n",
    "        \n",
    "\n",
    "    def take_trip(self, trip):\n",
    "\n",
    "        self.on_trip = True\n",
    "        self.trip = trip"
   ]
  },
  {
   "cell_type": "code",
   "execution_count": 4,
   "metadata": {},
   "outputs": [],
   "source": [
    "class Trip:\n",
    "    \n",
    "    \"\"\"A trip has a source, a destination and waiting time\"\"\"\n",
    "\n",
    "    def __init__(self, source: int, destination: int, wait_time: int) -> None:\n",
    "        \n",
    "        self.source = source\n",
    "        self.destination = destination\n",
    "        self.wait_time = wait_time\n",
    "        self.assigned = False\n",
    "    \n",
    "    \n",
    "    \n",
    "    def assign(self, ):\n",
    "        \"\"\"assign this trip to a car\"\"\"\n",
    "        \n",
    "        self.assigned = True\n",
    "        \n",
    "\n",
    "    def __str__(self):\n",
    "        return \"source:{}   destination:{}\".format(self.source,self.destination)\n",
    "\n"
   ]
  },
  {
   "cell_type": "code",
   "execution_count": 13,
   "metadata": {},
   "outputs": [],
   "source": [
    "class Grid:\n",
    "    \"\"\"Grid-world\"\"\"\n",
    "    def __init__(self, dim = 4, lambda_trip_gen = 4, num_cars = 4, max_wait_time = 5) -> None:\n",
    "        \n",
    "        self.lambda_trip_gen = lambda_trip_gen\n",
    "        self.num_cars = num_cars\n",
    "        self.dim = dim\n",
    "        self.num_zones = dim \n",
    "        self.pending_trips = [] #not certain whether this would be useful\n",
    "        self.remaining_trips = [] #not certain whether this would be useful\n",
    "        self.request_grid = np.zeros(shape = (dim,dim)) \n",
    "        average_speed = 50\n",
    "        self.dist_mat = np.array(np.random.randint(1,100, size=(4,4)))\n",
    "        for zone in range(self.dim):\n",
    "            self.dist_mat[zone][zone] = 0\n",
    "        self.travel_time = self.dist_mat/average_speed\n",
    "        self.vehicle_grid = np.zeros(shape = (dim, dim))\n",
    "        self.max_wait_time = max_wait_time\n",
    "        self.pickup_schedule = []\n",
    "        self.vehicle_engagement = {}        \n",
    "\n",
    "        \n",
    "    def init_cars(self):\n",
    "        \n",
    "        cars_per_grid = self.num_cars // self.dim\n",
    "        \n",
    "        for i in range(self.dim):\n",
    "            self.vehicle_grid[i][i] = cars_per_grid\n",
    "        \n",
    "        self.vehicle_grid[self.dim - 1][self.dim - 1] += self.num_cars % cars_per_grid\n",
    "    \n",
    "    def generate_trips(self):\n",
    "\n",
    "        \"\"\"A trip can be generated from any source to any destination \n",
    "            with a uniform probability. The number of trips from a zone \n",
    "            is generated using a Poisson distribution\"\"\"\n",
    "\n",
    "        \n",
    "        for source in range(self.num_zones):\n",
    "            num_trips = np.random.poisson(lam=self.lambda_trip_gen)\n",
    "            \n",
    "            for i in range(num_trips):\n",
    "                destination = np.random.choice([j for j in range(self.num_zones) if j!=source], \n",
    "                                      size = 1)[0]\n",
    "                \n",
    "                \n",
    "                #new_trip = Trip(source=zone, destination=destination, wait_time=0)\n",
    "                self.request_grid[source][destination]+=1\n",
    "                #self.pending_trips.append(new_trip)\n",
    "\n",
    "    def matching(self):\n",
    "        \n",
    "        \"\"\"implements vehicle-passenger matching. First the passengers and vehicles \n",
    "        in the same zone are matched, the remaining vehicles are dispatched by casting the \n",
    "        matching problem as a Linear Sum Assignment Problem (LAP)\"\"\"\n",
    "        \n",
    "        \n",
    "        #match the vehicles and passengers in the same zone first\n",
    "\n",
    "        trips_per_zone = self.request_grid.sum(axis = 1)\n",
    "        free_cars_per_zone = self.vehicle_grid.diagonal()\n",
    "        same_per_zone = np.minimum(trips_per_zone, free_cars_per_zone).astype(int)\n",
    "        \n",
    "        \n",
    "        #calc remaining trips and vehicles remaining after initial matching \n",
    "\n",
    "        trips_left = (trips_per_zone - same_per_zone).astype(int)\n",
    "        vehicles_left = (free_cars_per_zone - same_per_zone).astype(int)\n",
    "\n",
    "        #create the cost-matrix based on travel time\n",
    "        if trips_left.sum() > 0 and vehicles_left.sum() > 0:\n",
    "            # rlist = []\n",
    "            # clist = []\n",
    "            # for i in range(self.num_zones):\n",
    "            #     rlist += [i]*min(sum(trips_left),vehicles_left[i])\n",
    "            #     clist += [i]*min(sum(vehicles_left),trips_left[i])\n",
    "\n",
    "            # costs = np.zeros((len(rlist), len(clist)))\n",
    "            # for i in range(len(rlist)):\n",
    "            #     costs[i,:] = self.travel_time[rlist[i], clist]\n",
    "            # for j in range(len(clist)):\n",
    "            #     costs[:, j] = self.travel_time[rlist, clist[j]]\n",
    "\n",
    "            \n",
    "            cost_matrix = np.zeros(shape = (len(vehicles_left), len(trips_left)))\n",
    "            \n",
    "                \n",
    "\n",
    "        \n",
    "        \n",
    "\n",
    "        \n",
    "        return\n",
    "\n",
    "    \n",
    "\n",
    "        \n",
    "            \n",
    "    \n",
    "\n",
    "\n",
    "\n",
    "            \n",
    "        \n",
    "        \n",
    "\n"
   ]
  },
  {
   "cell_type": "code",
   "execution_count": 14,
   "metadata": {},
   "outputs": [],
   "source": [
    "grid= Grid()"
   ]
  },
  {
   "cell_type": "code",
   "execution_count": 15,
   "metadata": {},
   "outputs": [],
   "source": [
    "grid.init_cars()\n",
    "grid.generate_trips()\n"
   ]
  },
  {
   "cell_type": "code",
   "execution_count": 16,
   "metadata": {},
   "outputs": [],
   "source": [
    "grid.matching()"
   ]
  },
  {
   "cell_type": "code",
   "execution_count": 17,
   "metadata": {},
   "outputs": [],
   "source": [
    "u = grid.request_grid\n",
    "v = grid.vehicle_grid"
   ]
  },
  {
   "cell_type": "code",
   "execution_count": 18,
   "metadata": {},
   "outputs": [
    {
     "data": {
      "text/plain": [
       "(array([[0., 0., 0., 2.],\n",
       "        [0., 0., 1., 1.],\n",
       "        [2., 0., 0., 2.],\n",
       "        [2., 4., 2., 0.]]),\n",
       " array([[1., 0., 0., 0.],\n",
       "        [0., 1., 0., 0.],\n",
       "        [0., 0., 1., 0.],\n",
       "        [0., 0., 0., 1.]]))"
      ]
     },
     "execution_count": 18,
     "metadata": {},
     "output_type": "execute_result"
    }
   ],
   "source": [
    "u,v"
   ]
  },
  {
   "cell_type": "code",
   "execution_count": 19,
   "metadata": {},
   "outputs": [],
   "source": [
    "trips = u.sum(axis = 1)\n",
    "cars = v.diagonal()"
   ]
  },
  {
   "cell_type": "code",
   "execution_count": 20,
   "metadata": {},
   "outputs": [
    {
     "data": {
      "text/plain": [
       "(array([2., 2., 4., 8.]), array([1., 1., 1., 1.]))"
      ]
     },
     "execution_count": 20,
     "metadata": {},
     "output_type": "execute_result"
    }
   ],
   "source": [
    "trips, cars"
   ]
  },
  {
   "cell_type": "code",
   "execution_count": 36,
   "metadata": {},
   "outputs": [],
   "source": [
    "same_zone = np.minimum(trips, cars)"
   ]
  },
  {
   "cell_type": "code",
   "execution_count": 38,
   "metadata": {},
   "outputs": [
    {
     "data": {
      "text/plain": [
       "array([[0., 2., 0., 1.],\n",
       "       [2., 0., 0., 7.],\n",
       "       [0., 2., 0., 2.],\n",
       "       [1., 0., 2., 0.]])"
      ]
     },
     "execution_count": 38,
     "metadata": {},
     "output_type": "execute_result"
    }
   ],
   "source": [
    "u"
   ]
  },
  {
   "cell_type": "code",
   "execution_count": 42,
   "metadata": {},
   "outputs": [
    {
     "data": {
      "text/plain": [
       "array([[False,  True, False,  True],\n",
       "       [ True, False, False,  True],\n",
       "       [False,  True, False,  True],\n",
       "       [ True, False,  True, False]])"
      ]
     },
     "execution_count": 42,
     "metadata": {},
     "output_type": "execute_result"
    }
   ],
   "source": [
    "u>0"
   ]
  },
  {
   "cell_type": "code",
   "execution_count": 18,
   "metadata": {},
   "outputs": [
    {
     "data": {
      "text/plain": [
       "(array([[0., 2., 1., 1.],\n",
       "        [2., 0., 1., 1.],\n",
       "        [0., 1., 0., 2.],\n",
       "        [1., 1., 1., 0.]]),\n",
       " array([[4., 0., 0., 0.],\n",
       "        [0., 4., 0., 0.],\n",
       "        [0., 0., 4., 0.],\n",
       "        [0., 0., 0., 4.]]))"
      ]
     },
     "execution_count": 18,
     "metadata": {},
     "output_type": "execute_result"
    }
   ],
   "source": [
    "u,v"
   ]
  },
  {
   "cell_type": "code",
   "execution_count": 15,
   "metadata": {},
   "outputs": [
    {
     "data": {
      "text/plain": [
       "array([[0.  , 1.82, 0.9 , 1.9 ],\n",
       "       [0.06, 0.  , 1.44, 0.32],\n",
       "       [1.82, 1.74, 0.  , 0.78],\n",
       "       [1.28, 1.48, 1.34, 0.  ]])"
      ]
     },
     "execution_count": 15,
     "metadata": {},
     "output_type": "execute_result"
    }
   ],
   "source": [
    "grid.travel_time"
   ]
  },
  {
   "cell_type": "code",
   "execution_count": 68,
   "metadata": {},
   "outputs": [],
   "source": [
    "veh_profiles = np.load('vp.npy')"
   ]
  },
  {
   "cell_type": "code",
   "execution_count": 60,
   "metadata": {},
   "outputs": [],
   "source": [
    "grid.init_cars()"
   ]
  },
  {
   "cell_type": "code",
   "execution_count": 63,
   "metadata": {},
   "outputs": [
    {
     "data": {
      "text/plain": [
       "array([[0.8 , 0.24, 0.8 , 1.34],\n",
       "       [0.22, 0.36, 1.54, 0.84],\n",
       "       [0.56, 0.02, 0.92, 0.1 ],\n",
       "       [0.06, 1.32, 0.18, 1.26]])"
      ]
     },
     "execution_count": 63,
     "metadata": {},
     "output_type": "execute_result"
    }
   ],
   "source": [
    "grid.travel_time"
   ]
  },
  {
   "cell_type": "code",
   "execution_count": 62,
   "metadata": {},
   "outputs": [],
   "source": []
  },
  {
   "cell_type": "code",
   "execution_count": 39,
   "metadata": {},
   "outputs": [
    {
     "data": {
      "text/plain": [
       "['source:0 \\n destination:11',\n",
       " 'source:0 \\n destination:10',\n",
       " 'source:1 \\n destination:7',\n",
       " 'source:1 \\n destination:11',\n",
       " 'source:1 \\n destination:13',\n",
       " 'source:1 \\n destination:12',\n",
       " 'source:2 \\n destination:11',\n",
       " 'source:2 \\n destination:12',\n",
       " 'source:2 \\n destination:1',\n",
       " 'source:2 \\n destination:5',\n",
       " 'source:2 \\n destination:10',\n",
       " 'source:2 \\n destination:5',\n",
       " 'source:2 \\n destination:6',\n",
       " 'source:3 \\n destination:13',\n",
       " 'source:3 \\n destination:12',\n",
       " 'source:3 \\n destination:9',\n",
       " 'source:3 \\n destination:14',\n",
       " 'source:3 \\n destination:13',\n",
       " 'source:3 \\n destination:12',\n",
       " 'source:3 \\n destination:12',\n",
       " 'source:3 \\n destination:0',\n",
       " 'source:3 \\n destination:6',\n",
       " 'source:3 \\n destination:7',\n",
       " 'source:4 \\n destination:5',\n",
       " 'source:5 \\n destination:4',\n",
       " 'source:5 \\n destination:13',\n",
       " 'source:5 \\n destination:4',\n",
       " 'source:5 \\n destination:6',\n",
       " 'source:5 \\n destination:8',\n",
       " 'source:5 \\n destination:2',\n",
       " 'source:6 \\n destination:4',\n",
       " 'source:6 \\n destination:7',\n",
       " 'source:6 \\n destination:11',\n",
       " 'source:6 \\n destination:2',\n",
       " 'source:7 \\n destination:2',\n",
       " 'source:7 \\n destination:5',\n",
       " 'source:7 \\n destination:12',\n",
       " 'source:7 \\n destination:5',\n",
       " 'source:8 \\n destination:0',\n",
       " 'source:8 \\n destination:11',\n",
       " 'source:8 \\n destination:10',\n",
       " 'source:8 \\n destination:4',\n",
       " 'source:8 \\n destination:6',\n",
       " 'source:8 \\n destination:14',\n",
       " 'source:8 \\n destination:10',\n",
       " 'source:9 \\n destination:7',\n",
       " 'source:9 \\n destination:0',\n",
       " 'source:9 \\n destination:1',\n",
       " 'source:10 \\n destination:15',\n",
       " 'source:10 \\n destination:12',\n",
       " 'source:10 \\n destination:8',\n",
       " 'source:10 \\n destination:15',\n",
       " 'source:11 \\n destination:3',\n",
       " 'source:11 \\n destination:3',\n",
       " 'source:11 \\n destination:3',\n",
       " 'source:12 \\n destination:0',\n",
       " 'source:12 \\n destination:4',\n",
       " 'source:13 \\n destination:1',\n",
       " 'source:13 \\n destination:7',\n",
       " 'source:13 \\n destination:0',\n",
       " 'source:14 \\n destination:2',\n",
       " 'source:14 \\n destination:9',\n",
       " 'source:14 \\n destination:1',\n",
       " 'source:14 \\n destination:8',\n",
       " 'source:15 \\n destination:12']"
      ]
     },
     "execution_count": 39,
     "metadata": {},
     "output_type": "execute_result"
    }
   ],
   "source": [
    "[str(trip) for trip in grid.pending_trips]"
   ]
  },
  {
   "cell_type": "code",
   "execution_count": null,
   "metadata": {},
   "outputs": [],
   "source": [
    "grid."
   ]
  },
  {
   "cell_type": "code",
   "execution_count": 12,
   "metadata": {},
   "outputs": [
    {
     "data": {
      "text/plain": [
       "array([13, 10])"
      ]
     },
     "execution_count": 12,
     "metadata": {},
     "output_type": "execute_result"
    }
   ],
   "source": [
    "np.random.choice([j for j in range(4 * 4 - 1)], \n",
    "                                size = 2, replace=False)"
   ]
  },
  {
   "cell_type": "code",
   "execution_count": null,
   "metadata": {},
   "outputs": [],
   "source": []
  },
  {
   "cell_type": "code",
   "execution_count": 13,
   "metadata": {},
   "outputs": [
    {
     "data": {
      "text/plain": [
       "[0, 1, 3, 4, 5, 6, 7, 8, 9, 10, 11, 12, 13, 14]"
      ]
     },
     "execution_count": 13,
     "metadata": {},
     "output_type": "execute_result"
    }
   ],
   "source": [
    "[j for j in range(4 * 4 - 1) if j!=2]"
   ]
  },
  {
   "cell_type": "code",
   "execution_count": null,
   "metadata": {},
   "outputs": [],
   "source": []
  }
 ],
 "metadata": {
  "kernelspec": {
   "display_name": "ds_assignments",
   "language": "python",
   "name": "python3"
  },
  "language_info": {
   "codemirror_mode": {
    "name": "ipython",
    "version": 3
   },
   "file_extension": ".py",
   "mimetype": "text/x-python",
   "name": "python",
   "nbconvert_exporter": "python",
   "pygments_lexer": "ipython3",
   "version": "3.11.5"
  }
 },
 "nbformat": 4,
 "nbformat_minor": 2
}
