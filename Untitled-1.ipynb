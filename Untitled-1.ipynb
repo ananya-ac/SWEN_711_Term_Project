{
 "cells": [
  {
   "cell_type": "markdown",
   "metadata": {},
   "source": [
    "#### This is a notebook made for designing a 4 x 4 grid system of cabs and riders "
   ]
  },
  {
   "cell_type": "markdown",
   "metadata": {},
   "source": [
    "##### First we design a grid where the demand request is fixed"
   ]
  },
  {
   "cell_type": "code",
   "execution_count": 217,
   "metadata": {},
   "outputs": [],
   "source": [
    "import numpy as np\n",
    "import pdb\n",
    "from scipy.optimize import linear_sum_assignment"
   ]
  },
  {
   "cell_type": "code",
   "execution_count": 225,
   "metadata": {},
   "outputs": [],
   "source": [
    "INF = 1e9"
   ]
  },
  {
   "cell_type": "code",
   "execution_count": 2,
   "metadata": {},
   "outputs": [],
   "source": []
  },
  {
   "cell_type": "code",
   "execution_count": 52,
   "metadata": {},
   "outputs": [],
   "source": [
    "class Car:\n",
    "    \"\"\"A car maybe assigned a trip, otherwise it idles or \n",
    "        repositions to a new zone\"\"\"\n",
    "    \n",
    "    def __init__(self, id) -> None:\n",
    "        \n",
    "        self.on_trip = False\n",
    "        self.trip = None\n",
    "        self.cur_zone = None\n",
    "        self.id = id \n",
    "        \n",
    "\n",
    "    "
   ]
  },
  {
   "cell_type": "code",
   "execution_count": 53,
   "metadata": {},
   "outputs": [],
   "source": [
    "class Trip:\n",
    "    \n",
    "    \"\"\"A trip has a source, a destination and waiting time\"\"\"\n",
    "\n",
    "    def __init__(self, source: int, destination: int, wait_time: int) -> None:\n",
    "        \n",
    "        self.source = source\n",
    "        self.destination = destination\n",
    "        self.wait_time = wait_time\n",
    "        self.assigned = False\n",
    "    \n",
    "    \n",
    "    \n",
    "    def assign(self):\n",
    "        \"\"\"assign this trip to a car\"\"\"\n",
    "        \n",
    "        self.assigned = True\n",
    "        \n",
    "\n",
    "    def __str__(self):\n",
    "        return \"source:{}   destination:{}\".format(self.source,self.destination)\n",
    "\n"
   ]
  },
  {
   "cell_type": "code",
   "execution_count": 336,
   "metadata": {},
   "outputs": [
    {
     "ename": "IndentationError",
     "evalue": "expected an indented block after 'for' statement on line 111 (674940009.py, line 113)",
     "output_type": "error",
     "traceback": [
      "\u001b[0;36m  Cell \u001b[0;32mIn[336], line 113\u001b[0;36m\u001b[0m\n\u001b[0;31m    rids, cids = linear_sum_assignment(cost_matrix)\u001b[0m\n\u001b[0m    ^\u001b[0m\n\u001b[0;31mIndentationError\u001b[0m\u001b[0;31m:\u001b[0m expected an indented block after 'for' statement on line 111\n"
     ]
    }
   ],
   "source": [
    "class Grid:\n",
    "    \"\"\"Grid-world\"\"\"\n",
    "    def __init__(self, zones = 4, lambda_trip_gen = 1, num_cars = 4, max_wait_time = 5) -> None:\n",
    "        \n",
    "        self.lambda_trip_gen = lambda_trip_gen\n",
    "        self.num_cars = num_cars\n",
    "        self.num_zones = zones \n",
    "        # self.pending_trips = [] #not certain whether this would be useful\n",
    "        # self.remaining_trips = [] #not certain whether this would be useful\n",
    "        self.request_grid = np.zeros(shape = (zones,zones)) \n",
    "        average_speed = 50\n",
    "        self.dist_mat = np.array(np.random.randint(1,100, size=(4,4)))\n",
    "        for zone in range(zones):\n",
    "            self.dist_mat[zone][zone] = 0\n",
    "        self.travel_time = self.dist_mat/average_speed\n",
    "        self.vehicle_grid = np.zeros(shape = (zones, zones))\n",
    "        self.max_wait_time = max_wait_time\n",
    "        self.pickup_schedule = []\n",
    "        self.vehicles = []\n",
    "        self.vehicle_engagement = {}\n",
    "        \n",
    "        \n",
    "    \n",
    "    def create_cars(self):\n",
    "\n",
    "        for i in range(self.num_cars):\n",
    "            car = Car(i)\n",
    "            self.vehicles.append(car)\n",
    "            self.vehicle_engagement[i] = False\n",
    "    \n",
    "    \n",
    "    \n",
    "    def init_cars(self):\n",
    "        \n",
    "        #cars_per_grid = self.num_cars // self.num_zones\n",
    "        for car in self.vehicles:\n",
    "            init_zone = np.random.choice(range(self.num_zones))\n",
    "            self.vehicle_grid[init_zone][init_zone] += 1\n",
    "            car.cur_zone = init_zone\n",
    "\n",
    "\n",
    "    \n",
    "    def generate_trips(self):\n",
    "\n",
    "        \"\"\"A trip can be generated from any source to any destination \n",
    "            with a uniform probability. The number of trips from a zone \n",
    "            is generated using a Poisson distribution\"\"\"\n",
    "\n",
    "        \n",
    "        for source in range(self.num_zones):\n",
    "            num_trips = np.random.poisson(lam=self.lambda_trip_gen)\n",
    "            \n",
    "            for i in range(num_trips):\n",
    "                destination = np.random.choice([j for j in range(self.num_zones) if j!=source], \n",
    "                                      size = 1)[0]\n",
    "                \n",
    "                \n",
    "                #new_trip = Trip(source=zone, destination=destination, wait_time=0)\n",
    "                self.request_grid[source][destination]+=1\n",
    "                #self.pending_trips.append(new_trip)\n",
    "\n",
    "    \n",
    "    \n",
    "    def matching(self):\n",
    "        \n",
    "        \"\"\"implements vehicle-passenger matching. First the passengers and vehicles \n",
    "        in the same zone are matched, the remaining vehicles are dispatched by casting the \n",
    "        matching problem as a Linear Sum Assignment Problem (LAP)\"\"\"\n",
    "        \n",
    "        \n",
    "        #match the vehicles and passengers in the same zone first\n",
    "\n",
    "        matched_pairs = []\n",
    "        trips_per_zone = self.request_grid.sum(axis = 1)\n",
    "        free_cars_per_zone = self.vehicle_grid.diagonal()\n",
    "        same_per_zone = np.minimum(trips_per_zone, free_cars_per_zone).tolist()\n",
    "        for i in range(len(same_per_zone)):\n",
    "            trips_left = same_per_zone[i]\n",
    "            while trips_left > 0:\n",
    "                for car in self.vehicles:\n",
    "                    if car.cur_zone == i:\n",
    "                        car.on_trip = True\n",
    "                        self.vehicle_engagement[car.id] = True\n",
    "                        destination = np.random.choice([k for k in range(len(self.request_grid[i])) if self.request_grid[i][k] != 0])\n",
    "                        matched_pairs.append((i, i))\n",
    "                        self.vehicle_grid[i][i] -= 1\n",
    "                        self.request_grid[i][destination] -= 1\n",
    "                        trips_left -= 1\n",
    "                        if trips_left == 0:\n",
    "                            break\n",
    "            same_per_zone[i] = trips_left\n",
    "        \n",
    "        #calc remaining trips and vehicles remaining after initial matching \n",
    "\n",
    "        trips_remaining = self.request_grid.sum(axis = 1).astype(int)\n",
    "        vehicles_left = (free_cars_per_zone - same_per_zone).astype(int)\n",
    "\n",
    "        #create the cost-matrix based on travel time\n",
    "        \n",
    "        if trips_remaining.sum() > 0 and vehicles_left.sum() > 0:\n",
    "            rows = []\n",
    "            sources = []\n",
    "            for source in range(len(self.vehicle_grid.diagonal())):\n",
    "                if self.vehicle_grid.diagonal()[source] > 0:\n",
    "                    sources.append(source)\n",
    "                    cost_row = self.travel_time[source]\n",
    "                    cost_row[self.request_grid.sum(axis=1) == 0] = INF\n",
    "                    rows.append(cost_row)\n",
    "            cost_matrix = np.ones_like(self.vehicle_grid)\n",
    "            pdb.set_trace()\n",
    "            # for source in sources:\n",
    "\n",
    "            # rids, cids = linear_sum_assignment(cost_matrix)\n",
    "            # for t in list(zip(rids,cids)):\n",
    "            #     if cost_matrix[t] == INF:\n",
    "                    \n",
    "            \n",
    "            # pdb.set_trace()\n",
    "            \n",
    "\n",
    "                \n",
    "\n",
    "        \n",
    "        \n",
    "\n",
    "        \n",
    "        \n",
    "\n",
    "    \n",
    "\n",
    "        \n",
    "            \n",
    "    \n",
    "\n",
    "\n",
    "\n",
    "            \n",
    "        \n",
    "        \n",
    "\n"
   ]
  },
  {
   "cell_type": "code",
   "execution_count": 337,
   "metadata": {},
   "outputs": [],
   "source": [
    "grid= Grid()"
   ]
  },
  {
   "cell_type": "code",
   "execution_count": 338,
   "metadata": {},
   "outputs": [],
   "source": [
    "grid.create_cars()\n",
    "grid.init_cars()\n",
    "grid.generate_trips()\n"
   ]
  },
  {
   "cell_type": "code",
   "execution_count": 339,
   "metadata": {},
   "outputs": [
    {
     "data": {
      "text/plain": [
       "(array([[0., 0., 0., 0.],\n",
       "        [1., 0., 0., 0.],\n",
       "        [1., 0., 0., 0.],\n",
       "        [1., 0., 0., 0.]]),\n",
       " array([[1., 0., 0., 0.],\n",
       "        [0., 1., 0., 0.],\n",
       "        [0., 0., 0., 0.],\n",
       "        [0., 0., 0., 2.]]))"
      ]
     },
     "execution_count": 339,
     "metadata": {},
     "output_type": "execute_result"
    }
   ],
   "source": [
    "u = grid.request_grid\n",
    "v = grid.vehicle_grid\n",
    "u,v"
   ]
  },
  {
   "cell_type": "code",
   "execution_count": 340,
   "metadata": {},
   "outputs": [
    {
     "data": {
      "text/plain": [
       "(array([0., 1., 1., 1.]), array([1., 1., 0., 2.]))"
      ]
     },
     "execution_count": 340,
     "metadata": {},
     "output_type": "execute_result"
    }
   ],
   "source": [
    "trips = u.sum(axis = 1)\n",
    "cars = v.diagonal()\n",
    "trips,cars"
   ]
  },
  {
   "cell_type": "code",
   "execution_count": 341,
   "metadata": {},
   "outputs": [
    {
     "name": "stdout",
     "output_type": "stream",
     "text": [
      "--Return--\n",
      "None\n",
      "> \u001b[0;32m/var/folders/7s/ktm8nqwj7v3599tvjn8fsfnw0000gp/T/ipykernel_88027/2969542242.py\u001b[0m(111)\u001b[0;36mmatching\u001b[0;34m()\u001b[0m\n",
      "\u001b[0;32m    109 \u001b[0;31m            \u001b[0mcost_matrix\u001b[0m \u001b[0;34m=\u001b[0m \u001b[0mnp\u001b[0m\u001b[0;34m.\u001b[0m\u001b[0marray\u001b[0m\u001b[0;34m(\u001b[0m\u001b[0mrows\u001b[0m\u001b[0;34m)\u001b[0m\u001b[0;34m\u001b[0m\u001b[0;34m\u001b[0m\u001b[0m\n",
      "\u001b[0m\u001b[0;32m    110 \u001b[0;31m            \u001b[0mrids\u001b[0m\u001b[0;34m,\u001b[0m \u001b[0mcids\u001b[0m \u001b[0;34m=\u001b[0m \u001b[0mlinear_sum_assignment\u001b[0m\u001b[0;34m(\u001b[0m\u001b[0mcost_matrix\u001b[0m\u001b[0;34m)\u001b[0m\u001b[0;34m\u001b[0m\u001b[0;34m\u001b[0m\u001b[0m\n",
      "\u001b[0m\u001b[0;32m--> 111 \u001b[0;31m            \u001b[0mpdb\u001b[0m\u001b[0;34m.\u001b[0m\u001b[0mset_trace\u001b[0m\u001b[0;34m(\u001b[0m\u001b[0;34m)\u001b[0m\u001b[0;34m\u001b[0m\u001b[0;34m\u001b[0m\u001b[0m\n",
      "\u001b[0m\u001b[0;32m    112 \u001b[0;31m\u001b[0;34m\u001b[0m\u001b[0m\n",
      "\u001b[0m\u001b[0;32m    113 \u001b[0;31m\u001b[0;34m\u001b[0m\u001b[0m\n",
      "\u001b[0m\n",
      "array([[1.e+09, 1.e+09, 4.e-02, 1.e+09],\n",
      "       [1.e+09, 1.e+09, 2.e-02, 1.e+09]])\n"
     ]
    }
   ],
   "source": [
    "grid.matching()"
   ]
  },
  {
   "cell_type": "code",
   "execution_count": null,
   "metadata": {},
   "outputs": [],
   "source": [
    "cost_matrix[row_ind, col_ind].sum()"
   ]
  },
  {
   "cell_type": "code",
   "execution_count": 188,
   "metadata": {},
   "outputs": [
    {
     "data": {
      "text/plain": [
       "(array([[0., 0., 0., 0.],\n",
       "        [1., 0., 0., 0.],\n",
       "        [1., 0., 0., 1.],\n",
       "        [0., 0., 0., 0.]]),\n",
       " array([[1., 0., 0., 0.],\n",
       "        [0., 0., 0., 0.],\n",
       "        [0., 0., 0., 0.],\n",
       "        [0., 0., 0., 0.]]))"
      ]
     },
     "execution_count": 188,
     "metadata": {},
     "output_type": "execute_result"
    }
   ],
   "source": [
    "grid.request_grid, grid.vehicle_grid"
   ]
  },
  {
   "cell_type": "code",
   "execution_count": 191,
   "metadata": {},
   "outputs": [
    {
     "data": {
      "text/plain": [
       "array([0., 1., 2., 0.])"
      ]
     },
     "execution_count": 191,
     "metadata": {},
     "output_type": "execute_result"
    }
   ],
   "source": [
    "u.sum(axis = 1)"
   ]
  },
  {
   "cell_type": "code",
   "execution_count": 204,
   "metadata": {},
   "outputs": [],
   "source": [
    "rows = []\n",
    "for source in range(len(v.diagonal())):\n",
    "    if v.diagonal()[source] > 0:\n",
    "        cost_row = grid.travel_time[source]\n",
    "        cost_row[u.sum(axis=1) == 0] = 0\n",
    "        cost_row[cost_row == 0] = np.nan\n",
    "        rows.append(cost_row)\n"
   ]
  },
  {
   "cell_type": "code",
   "execution_count": 205,
   "metadata": {},
   "outputs": [
    {
     "data": {
      "text/plain": [
       "[array([ nan, 0.12, 1.26,  nan])]"
      ]
     },
     "execution_count": 205,
     "metadata": {},
     "output_type": "execute_result"
    }
   ],
   "source": [
    "rows"
   ]
  },
  {
   "cell_type": "code",
   "execution_count": 189,
   "metadata": {},
   "outputs": [
    {
     "data": {
      "text/plain": [
       "{0: True, 1: True, 2: True, 3: False}"
      ]
     },
     "execution_count": 189,
     "metadata": {},
     "output_type": "execute_result"
    }
   ],
   "source": [
    "grid.vehicle_engagement"
   ]
  }
 ],
 "metadata": {
  "kernelspec": {
   "display_name": "ds_assignments",
   "language": "python",
   "name": "python3"
  },
  "language_info": {
   "codemirror_mode": {
    "name": "ipython",
    "version": 3
   },
   "file_extension": ".py",
   "mimetype": "text/x-python",
   "name": "python",
   "nbconvert_exporter": "python",
   "pygments_lexer": "ipython3",
   "version": "3.11.5"
  }
 },
 "nbformat": 4,
 "nbformat_minor": 2
}
