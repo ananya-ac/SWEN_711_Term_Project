{
 "cells": [
  {
   "cell_type": "markdown",
   "metadata": {},
   "source": [
    "#### This is a notebook made for designing a 4 x 4 grid system of cabs and riders "
   ]
  },
  {
   "cell_type": "markdown",
   "metadata": {},
   "source": [
    "##### First we design a grid where the demand request is fixed"
   ]
  },
  {
   "cell_type": "code",
   "execution_count": null,
   "metadata": {},
   "outputs": [
    {
     "ename": "",
     "evalue": "",
     "output_type": "error",
     "traceback": [
      "\u001b[1;31mRunning cells with 'LegalLM' requires the ipykernel package.\n",
      "\u001b[1;31mRun the following command to install 'ipykernel' into the Python environment. \n",
      "\u001b[1;31mCommand: 'conda install -n LegalLM ipykernel --update-deps --force-reinstall'"
     ]
    }
   ],
   "source": [
    "import numpy as np\n",
    "import pdb\n",
    "from scipy.optimize import linear_sum_assignment"
   ]
  },
  {
   "cell_type": "code",
   "execution_count": 2,
   "metadata": {},
   "outputs": [],
   "source": []
  },
  {
   "cell_type": "code",
   "execution_count": 3,
   "metadata": {},
   "outputs": [],
   "source": [
    "class Car:\n",
    "    \"\"\"A car maybe assigned a trip, otherwise it idles or \n",
    "        repositions to a new zone\"\"\"\n",
    "    \n",
    "    def __init__(self, id) -> None:\n",
    "        \n",
    "        self.on_trip = False\n",
    "        self.trip = None\n",
    "        self.cur_zone = None\n",
    "        self.id = id \n",
    "        \n",
    "\n",
    "    "
   ]
  },
  {
   "cell_type": "code",
   "execution_count": 4,
   "metadata": {},
   "outputs": [],
   "source": [
    "class Trip:\n",
    "    \n",
    "    \"\"\"A trip has a source, a destination and waiting time\"\"\"\n",
    "\n",
    "    def __init__(self, source: int, destination: int, wait_time: int) -> None:\n",
    "        \n",
    "        self.source = source\n",
    "        self.destination = destination\n",
    "        self.wait_time = wait_time\n",
    "        self.assigned = False\n",
    "    \n",
    "    \n",
    "    \n",
    "    def assign(self):\n",
    "        \"\"\"assign this trip to a car\"\"\"\n",
    "        \n",
    "        self.assigned = True\n",
    "        \n",
    "\n",
    "    def __str__(self):\n",
    "        return \"source:{}   destination:{}\".format(self.source,self.destination)\n",
    "\n"
   ]
  },
  {
   "cell_type": "code",
   "execution_count": 3,
   "metadata": {},
   "outputs": [],
   "source": [
    "class Grid:\n",
    "    \"\"\"Grid-world\"\"\"\n",
    "    def __init__(self,\n",
    "                 time_stamp,\n",
    "                 dim = 4,\n",
    "                 lambda_trip_gen = 4,\n",
    "                 num_cars = 16,\n",
    "                 max_wait_time = 5) -> None:\n",
    "        self.time_stamp = time_stamp\n",
    "        self.lambda_trip_gen = lambda_trip_gen\n",
    "        self.num_cars = num_cars\n",
    "        self.dim = dim\n",
    "        self.num_zones = dim \n",
    "        # self.pending_trips = [] #not certain whether this would be useful\n",
    "        # self.remaining_trips = [] #not certain whether this would be useful\n",
    "        self.request_grid = np.zeros(shape = (dim,dim)) \n",
    "        average_speed = 50\n",
    "        self.dist_mat = np.array(np.random.randint(1,100, size=(4,4)))\n",
    "        for zone in range(self.dim):\n",
    "            self.dist_mat[zone][zone] = 0\n",
    "        self.travel_time_mat = self.dist_mat/average_speed + np.ones(self.dist_mat.shape)\n",
    "        self.vehicle_grid = np.zeros(shape = (dim, dim))\n",
    "        self.max_wait_time = max_wait_time\n",
    "        self.pickup_schedule = []\n",
    "        self.vehicle_engagement = {}\n",
    "\n",
    "        \n",
    "    def init_cars(self, vehicles)->list:\n",
    "        \"\"\"Num cars is fixed and uniformly distributed\"\"\"\n",
    "        if vehicles==[]:\n",
    "            is_gen = True\n",
    "            print(f\"===>> New trips generated for \")\n",
    "            cars = []\n",
    "            cars_per_grid = self.num_cars // self.dim\n",
    "            car_no = 0\n",
    "            for i in range(self.dim):\n",
    "                self.vehicle_grid[i][i] = cars_per_grid\n",
    "                for k in range(cars_per_grid):\n",
    "                    cars.append(Car(len(vehicles)+car_no, i))\n",
    "                    car_no+=1\n",
    "            self.vehicle_grid[self.dim - 1][self.dim - 1] += self.num_cars % cars_per_grid\n",
    "        else:\n",
    "            # implement code to decide whether based on the H(w) the driver is \n",
    "            # active or chooses to be inactive\n",
    "            cars =vehicles\n",
    "            is_gen =False\n",
    "        return cars, is_gen\n",
    "    \n",
    "    def generate_trips(self):\n",
    "\n",
    "        \"\"\"A trip can be generated from any source to any destination \n",
    "            with a uniform probability. The number of trips from a zone \n",
    "            is generated using a Poisson distribution\"\"\"\n",
    "\n",
    "        trips = []\n",
    "        for source in range(self.num_zones):\n",
    "            num_trips = np.random.poisson(lam=self.lambda_trip_gen)\n",
    "            # print(f\"Number of trips generated at request grid loc {source} == {num_trips}\")\n",
    "            for _ in range(num_trips):\n",
    "                destination = np.random.choice([j for j in range(self.num_zones) if j!=source], \n",
    "                                      size = 1)[0]\n",
    "                # print(destination,self.request_grid)\n",
    "                new_trip = Trip(self.time_stamp,source=source, \n",
    "                                destination=destination, pickup_time=0, \n",
    "                                waiting_time = 0)\n",
    "                trips.append(new_trip)\n",
    "                self.request_grid[source][destination]+=1\n",
    "        return trips\n"
   ]
  },
  {
   "cell_type": "code",
   "execution_count": 4,
   "metadata": {},
   "outputs": [
    {
     "ename": "NameError",
     "evalue": "name 'np' is not defined",
     "output_type": "error",
     "traceback": [
      "\u001b[0;31m---------------------------------------------------------------------------\u001b[0m",
      "\u001b[0;31mNameError\u001b[0m                                 Traceback (most recent call last)",
      "Cell \u001b[0;32mIn[4], line 1\u001b[0m\n\u001b[0;32m----> 1\u001b[0m grid\u001b[38;5;241m=\u001b[39m \u001b[43mGrid\u001b[49m\u001b[43m(\u001b[49m\u001b[43mtime_stamp\u001b[49m\u001b[38;5;241;43m=\u001b[39;49m\u001b[38;5;241;43m0\u001b[39;49m\n\u001b[1;32m      2\u001b[0m \u001b[43m           \u001b[49m\u001b[43m)\u001b[49m\n",
      "Cell \u001b[0;32mIn[3], line 16\u001b[0m, in \u001b[0;36mGrid.__init__\u001b[0;34m(self, time_stamp, dim, lambda_trip_gen, num_cars, max_wait_time)\u001b[0m\n\u001b[1;32m     13\u001b[0m \u001b[38;5;28mself\u001b[39m\u001b[38;5;241m.\u001b[39mnum_zones \u001b[38;5;241m=\u001b[39m dim \n\u001b[1;32m     14\u001b[0m \u001b[38;5;66;03m# self.pending_trips = [] #not certain whether this would be useful\u001b[39;00m\n\u001b[1;32m     15\u001b[0m \u001b[38;5;66;03m# self.remaining_trips = [] #not certain whether this would be useful\u001b[39;00m\n\u001b[0;32m---> 16\u001b[0m \u001b[38;5;28mself\u001b[39m\u001b[38;5;241m.\u001b[39mrequest_grid \u001b[38;5;241m=\u001b[39m \u001b[43mnp\u001b[49m\u001b[38;5;241m.\u001b[39mzeros(shape \u001b[38;5;241m=\u001b[39m (dim,dim)) \n\u001b[1;32m     17\u001b[0m average_speed \u001b[38;5;241m=\u001b[39m \u001b[38;5;241m50\u001b[39m\n\u001b[1;32m     18\u001b[0m \u001b[38;5;28mself\u001b[39m\u001b[38;5;241m.\u001b[39mdist_mat \u001b[38;5;241m=\u001b[39m np\u001b[38;5;241m.\u001b[39marray(np\u001b[38;5;241m.\u001b[39mrandom\u001b[38;5;241m.\u001b[39mrandint(\u001b[38;5;241m1\u001b[39m,\u001b[38;5;241m100\u001b[39m, size\u001b[38;5;241m=\u001b[39m(\u001b[38;5;241m4\u001b[39m,\u001b[38;5;241m4\u001b[39m)))\n",
      "\u001b[0;31mNameError\u001b[0m: name 'np' is not defined"
     ]
    }
   ],
   "source": [
    "grid= Grid(time_stamp=0)"
   ]
  },
  {
   "cell_type": "code",
   "execution_count": 407,
   "metadata": {},
   "outputs": [],
   "source": [
    "grid.create_cars()\n",
    "grid.init_cars()\n",
    "grid.generate_trips()"
   ]
  },
  {
   "cell_type": "code",
   "execution_count": 408,
   "metadata": {},
   "outputs": [],
   "source": [
    "tt = grid.travel_time\n",
    "cars = grid.vehicles\n",
    "veng = grid.vehicle_engagement\n",
    "u = grid.request_grid\n",
    "v = grid.vehicle_grid\n",
    "# u,v"
   ]
  },
  {
   "cell_type": "code",
   "execution_count": 409,
   "metadata": {},
   "outputs": [
    {
     "data": {
      "text/plain": [
       "(array([4., 1., 1., 0.]), array([0., 1., 2., 1.]))"
      ]
     },
     "execution_count": 409,
     "metadata": {},
     "output_type": "execute_result"
    }
   ],
   "source": [
    "u.sum(axis=1),v.diagonal()\n"
   ]
  },
  {
   "cell_type": "code",
   "execution_count": 410,
   "metadata": {},
   "outputs": [
    {
     "data": {
      "text/plain": [
       "([(1, 1), (2, 2), (2, 0), (3, 0)],\n",
       " array([[0., 1., 1., 0.],\n",
       "        [0., 0., 0., 0.],\n",
       "        [0., 0., 0., 0.],\n",
       "        [0., 0., 0., 0.]]),\n",
       " array([[0., 0., 0., 0.],\n",
       "        [0., 0., 0., 0.],\n",
       "        [1., 0., 0., 0.],\n",
       "        [1., 0., 0., 0.]]))"
      ]
     },
     "execution_count": 410,
     "metadata": {},
     "output_type": "execute_result"
    }
   ],
   "source": [
    "matching(u = u, v = v, vehicles = cars, vehicle_engagement= veng, travel_time= tt)"
   ]
  },
  {
   "cell_type": "code",
   "execution_count": 1,
   "metadata": {},
   "outputs": [],
   "source": [
    "def matching(u, v, vehicles, vehicle_engagement, travel_time):\n",
    "        \n",
    "        \"\"\"implements vehicle-passenger matching. First the passengers and vehicles \n",
    "        in the same zone are matched, the remaining vehicles are dispatched by casting the \n",
    "        matching problem as a Linear Sum Assignment Problem (LAP)\n",
    "        \n",
    "        Params:\n",
    "        - u : np.ndarray, shape = (num_zones,num_zones) : request_grid at a given timestamp\n",
    "        - v : np.ndarray, shape = (num_zones,num_zones) : vehicle_grid at a given timestamp\n",
    "        - vehicle_engagement : dict(car_id(int):bool) : something that keeps track of whether a vehicle is currently serving a trip\n",
    "        - travel_time : np.ndarray, shape = (num_zones,num_zones) : matrix where i,j element denotes time of travel from zone i to zone j\n",
    "       \n",
    "         \"\"\"\n",
    "        \n",
    "        \n",
    "        #match the vehicles and passengers in the same zone first\n",
    "\n",
    "\n",
    "        matched_pairs = []\n",
    "        trips_per_zone = u.sum(axis = 1)\n",
    "        free_cars_per_zone = v.diagonal()\n",
    "        same_per_zone = np.minimum(trips_per_zone, free_cars_per_zone).tolist()\n",
    "        for i in range(len(same_per_zone)):\n",
    "            trips_left = same_per_zone[i]\n",
    "            while trips_left > 0:\n",
    "                for car in vehicles:\n",
    "                    print('Inside ANanya ',car)\n",
    "                    if car.loc == i:\n",
    "                        car.take_trip(0)\n",
    "                        # vehicle_engagement[car.id] = True\n",
    "                        destination = np.random.choice([k for k in range(len(u)) if u[i][k] != 0])\n",
    "                        matched_pairs.append((i, i))\n",
    "                        v[i][i] -= 1\n",
    "                        v[i][destination] += 1\n",
    "                        u[i][destination] -= 1\n",
    "                        trips_left -= 1\n",
    "                        if trips_left == 0:\n",
    "                            break\n",
    "            same_per_zone[i] = trips_left\n",
    "        \n",
    "        #calc remaining trips and vehicles remaining after initial matching \n",
    "\n",
    "        trips_remaining = u.sum(axis = 1).astype(int)\n",
    "        vehicles_left = (free_cars_per_zone - same_per_zone).astype(int)\n",
    "\n",
    "        #create the cost-matrix based on travel time\n",
    "        \n",
    "        if trips_remaining.sum() > 0 and vehicles_left.sum() > 0:\n",
    "            row_dict = {}\n",
    "            sources = []\n",
    "            for source in range(len(v.diagonal())):\n",
    "                rem_vehicles = v.diagonal()[source]\n",
    "                if rem_vehicles>0:    \n",
    "                    row_dict[source] = []\n",
    "                    sources.append(source)\n",
    "                while rem_vehicles > 0:\n",
    "                    cost_row = travel_time[source]\n",
    "                    cost_row[u.sum(axis=1) == 0] = INF\n",
    "                    row_dict[source].append(cost_row)\n",
    "                    rem_vehicles -= 1\n",
    "            rows = []\n",
    "            for _,val in row_dict.items():\n",
    "                rows.append(val[0])\n",
    "            cost_matrix = np.zeros_like(v)\n",
    "            cost_matrix[sources] = np.array(rows)\n",
    "            cost_matrix[cost_matrix == 0] = INF\n",
    "            rids, cids = linear_sum_assignment(cost_matrix)\n",
    "            for t in list(zip(rids,cids)):\n",
    "                \n",
    "                if cost_matrix[t] != INF:\n",
    "                    i = min(len(row_dict[t[0]]), u.sum(axis = 1)[t[1]])\n",
    "                    \n",
    "                    while i > 0:\n",
    "                        i -= 1    \n",
    "                        matched_pairs.append(t)\n",
    "                        v[t[0]][t[0]] -= 1\n",
    "                        v[t[0]][t[1]] += 1\n",
    "                        dest = np.random.choice(np.argwhere(u[t[1]]>0).flatten())\n",
    "                        u[t[1]][dest] -= 1 \n",
    "                        row_dict[t[0]].pop()\n",
    "                        if len(row_dict[t[0]]) == 0:\n",
    "                            row_dict.pop(t[0])\n",
    "\n",
    "            #At this stage, same zone and least time cost traveller-passenger matching has \n",
    "            #been completed. If there are remaining cabs and trips, those are being matched\n",
    "            #by the least time cost of the remaining potential trips.\n",
    "        if trips_remaining.sum() > 0 and vehicles_left.sum() > 0:        \n",
    "            for source in row_dict:\n",
    "                if u.sum() > 0:\n",
    "                    possible_dests = np.argwhere(u.sum(axis = 1) > 0).flatten()\n",
    "                    min_time = INF\n",
    "                    dest = 0\n",
    "                    for pd in possible_dests:\n",
    "                        if travel_time[source][pd] < min_time:\n",
    "                            min_time = travel_time[source][pd]\n",
    "                            dest = pd\n",
    "                    #dest = np.random.choice(np.argwhere(u.sum(axis = 1) > 0).flatten())\n",
    "                    matched_pairs.append((source,dest))\n",
    "                    dest2 = np.random.choice(np.argwhere(u[dest]>0).flatten())\n",
    "                    u[dest][dest2] -= 1\n",
    "                    v[source][source] -= 1\n",
    "                    v[source][dest] += 1\n",
    "                    \n",
    "                # j = len(row) - 1\n",
    "                # k = 1 # starting from the second closest zone ## WRONG!\n",
    "                # while j >= 0 and u.sum() > 0:\n",
    "                    \n",
    "                #     matched_pairs.append((source,row[j].argsort()[k]))\n",
    "                #     k += 1\n",
    "                #     j -= 1\n",
    "        \n",
    "        return matched_pairs, u, v\n"
   ]
  }
 ],
 "metadata": {
  "kernelspec": {
   "display_name": "ds_assignments",
   "language": "python",
   "name": "python3"
  },
  "language_info": {
   "codemirror_mode": {
    "name": "ipython",
    "version": 3
   },
   "file_extension": ".py",
   "mimetype": "text/x-python",
   "name": "python",
   "nbconvert_exporter": "python",
   "pygments_lexer": "ipython3",
   "version": "3.1.0"
  }
 },
 "nbformat": 4,
 "nbformat_minor": 2
}
