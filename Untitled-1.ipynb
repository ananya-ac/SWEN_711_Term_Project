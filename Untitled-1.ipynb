{
 "cells": [
  {
   "cell_type": "markdown",
   "metadata": {},
   "source": [
    "#### This is a notebook made for designing a 4 x 4 grid system of cabs and riders "
   ]
  },
  {
   "cell_type": "markdown",
   "metadata": {},
   "source": [
    "##### First we design a grid where the demand request is fixed"
   ]
  },
  {
   "cell_type": "code",
   "execution_count": 1,
   "metadata": {},
   "outputs": [],
   "source": [
    "import numpy as np"
   ]
  },
  {
   "cell_type": "code",
   "execution_count": 11,
   "metadata": {},
   "outputs": [
    {
     "data": {
      "text/plain": [
       "array([[6, 5],\n",
       "       [2, 4]])"
      ]
     },
     "execution_count": 11,
     "metadata": {},
     "output_type": "execute_result"
    }
   ],
   "source": []
  },
  {
   "cell_type": "code",
   "execution_count": null,
   "metadata": {},
   "outputs": [],
   "source": []
  },
  {
   "cell_type": "code",
   "execution_count": null,
   "metadata": {},
   "outputs": [],
   "source": [
    "class Car:\n",
    "    \"\"\"A car maybe assigned a trip, otherwise it idles or \n",
    "        repositions to a new zone\"\"\"\n",
    "    \n",
    "    def __init__(self) -> None:\n",
    "        \n",
    "        self.on_trip = False\n",
    "        self.trip = None\n",
    "\n",
    "    def take_trip(self, trip):\n",
    "\n",
    "        self.on_trip = True\n",
    "        self.trip = trip"
   ]
  },
  {
   "cell_type": "code",
   "execution_count": 35,
   "metadata": {},
   "outputs": [],
   "source": [
    "class Trip:\n",
    "    \n",
    "    \"\"\"A trip has a source, a destination and waiting time\"\"\"\n",
    "\n",
    "    def __init__(self, source: int, destination: int, wait_time: int) -> None:\n",
    "        \n",
    "        self.source = source\n",
    "        self.destination = destination\n",
    "        self.wait_time = wait_time\n",
    "        self.assigned = False\n",
    "    \n",
    "    \n",
    "    \n",
    "    def assign(self, ):\n",
    "        \"\"\"assign this trip to a car\"\"\"\n",
    "        \n",
    "        self.assigned = True\n",
    "        \n",
    "\n",
    "    def __str__(self):\n",
    "        return \"source:{}   destination:{}\".format(self.source,self.destination)\n",
    "\n"
   ]
  },
  {
   "cell_type": "code",
   "execution_count": 36,
   "metadata": {},
   "outputs": [],
   "source": [
    "class Grid:\n",
    "    \"\"\"Grid-world\"\"\"\n",
    "    def __init__(self, dim = 4, lambda_trip_gen = 4, num_cars = 16) -> None:\n",
    "        \n",
    "        self.lambda_trip_gen = lambda_trip_gen\n",
    "        self.num_cars = num_cars\n",
    "        self.dim = dim\n",
    "        self.num_zones = dim * dim\n",
    "        self.pending_trips = [] #not certain whether this would be useful\n",
    "        self.remaining_trips = [] #not certain whether this would be useful\n",
    "        \n",
    "    def generate_trips(self):\n",
    "\n",
    "        \"\"\"A trip can be generated from any source to any destination \n",
    "            with a uniform probability. The number of trips from a zone \n",
    "            is generated using a Poisson distribution\"\"\"\n",
    "\n",
    "        \n",
    "        for zone in range(self.num_zones):\n",
    "            num_trips = np.random.poisson(lam=self.lambda_trip_gen)\n",
    "            \n",
    "            for i in range(num_trips):\n",
    "                destination = np.random.choice([j for j in range(self.num_zones) if j!=zone], \n",
    "                                      size = 1)[0]\n",
    "                \n",
    "                new_trip = Trip(source=zone, destination=destination, wait_time=0)\n",
    "                self.pending_trips.append(new_trip)\n",
    "\n",
    "    \n",
    "\n",
    "\n",
    "\n",
    "            \n",
    "        \n",
    "        \n",
    "\n"
   ]
  },
  {
   "cell_type": "code",
   "execution_count": 37,
   "metadata": {},
   "outputs": [],
   "source": [
    "grid= Grid()"
   ]
  },
  {
   "cell_type": "code",
   "execution_count": 38,
   "metadata": {},
   "outputs": [],
   "source": [
    "grid.generate_trips()"
   ]
  },
  {
   "cell_type": "code",
   "execution_count": 39,
   "metadata": {},
   "outputs": [
    {
     "data": {
      "text/plain": [
       "['source:0 \\n destination:11',\n",
       " 'source:0 \\n destination:10',\n",
       " 'source:1 \\n destination:7',\n",
       " 'source:1 \\n destination:11',\n",
       " 'source:1 \\n destination:13',\n",
       " 'source:1 \\n destination:12',\n",
       " 'source:2 \\n destination:11',\n",
       " 'source:2 \\n destination:12',\n",
       " 'source:2 \\n destination:1',\n",
       " 'source:2 \\n destination:5',\n",
       " 'source:2 \\n destination:10',\n",
       " 'source:2 \\n destination:5',\n",
       " 'source:2 \\n destination:6',\n",
       " 'source:3 \\n destination:13',\n",
       " 'source:3 \\n destination:12',\n",
       " 'source:3 \\n destination:9',\n",
       " 'source:3 \\n destination:14',\n",
       " 'source:3 \\n destination:13',\n",
       " 'source:3 \\n destination:12',\n",
       " 'source:3 \\n destination:12',\n",
       " 'source:3 \\n destination:0',\n",
       " 'source:3 \\n destination:6',\n",
       " 'source:3 \\n destination:7',\n",
       " 'source:4 \\n destination:5',\n",
       " 'source:5 \\n destination:4',\n",
       " 'source:5 \\n destination:13',\n",
       " 'source:5 \\n destination:4',\n",
       " 'source:5 \\n destination:6',\n",
       " 'source:5 \\n destination:8',\n",
       " 'source:5 \\n destination:2',\n",
       " 'source:6 \\n destination:4',\n",
       " 'source:6 \\n destination:7',\n",
       " 'source:6 \\n destination:11',\n",
       " 'source:6 \\n destination:2',\n",
       " 'source:7 \\n destination:2',\n",
       " 'source:7 \\n destination:5',\n",
       " 'source:7 \\n destination:12',\n",
       " 'source:7 \\n destination:5',\n",
       " 'source:8 \\n destination:0',\n",
       " 'source:8 \\n destination:11',\n",
       " 'source:8 \\n destination:10',\n",
       " 'source:8 \\n destination:4',\n",
       " 'source:8 \\n destination:6',\n",
       " 'source:8 \\n destination:14',\n",
       " 'source:8 \\n destination:10',\n",
       " 'source:9 \\n destination:7',\n",
       " 'source:9 \\n destination:0',\n",
       " 'source:9 \\n destination:1',\n",
       " 'source:10 \\n destination:15',\n",
       " 'source:10 \\n destination:12',\n",
       " 'source:10 \\n destination:8',\n",
       " 'source:10 \\n destination:15',\n",
       " 'source:11 \\n destination:3',\n",
       " 'source:11 \\n destination:3',\n",
       " 'source:11 \\n destination:3',\n",
       " 'source:12 \\n destination:0',\n",
       " 'source:12 \\n destination:4',\n",
       " 'source:13 \\n destination:1',\n",
       " 'source:13 \\n destination:7',\n",
       " 'source:13 \\n destination:0',\n",
       " 'source:14 \\n destination:2',\n",
       " 'source:14 \\n destination:9',\n",
       " 'source:14 \\n destination:1',\n",
       " 'source:14 \\n destination:8',\n",
       " 'source:15 \\n destination:12']"
      ]
     },
     "execution_count": 39,
     "metadata": {},
     "output_type": "execute_result"
    }
   ],
   "source": [
    "[str(trip) for trip in grid.pending_trips]"
   ]
  },
  {
   "cell_type": "code",
   "execution_count": null,
   "metadata": {},
   "outputs": [],
   "source": [
    "grid."
   ]
  },
  {
   "cell_type": "code",
   "execution_count": 12,
   "metadata": {},
   "outputs": [
    {
     "data": {
      "text/plain": [
       "array([13, 10])"
      ]
     },
     "execution_count": 12,
     "metadata": {},
     "output_type": "execute_result"
    }
   ],
   "source": [
    "np.random.choice([j for j in range(4 * 4 - 1)], \n",
    "                                size = 2, replace=False)"
   ]
  },
  {
   "cell_type": "code",
   "execution_count": null,
   "metadata": {},
   "outputs": [],
   "source": []
  },
  {
   "cell_type": "code",
   "execution_count": 13,
   "metadata": {},
   "outputs": [
    {
     "data": {
      "text/plain": [
       "[0, 1, 3, 4, 5, 6, 7, 8, 9, 10, 11, 12, 13, 14]"
      ]
     },
     "execution_count": 13,
     "metadata": {},
     "output_type": "execute_result"
    }
   ],
   "source": [
    "[j for j in range(4 * 4 - 1) if j!=2]"
   ]
  },
  {
   "cell_type": "code",
   "execution_count": null,
   "metadata": {},
   "outputs": [],
   "source": []
  }
 ],
 "metadata": {
  "kernelspec": {
   "display_name": "ds_assignments",
   "language": "python",
   "name": "python3"
  },
  "language_info": {
   "codemirror_mode": {
    "name": "ipython",
    "version": 3
   },
   "file_extension": ".py",
   "mimetype": "text/x-python",
   "name": "python",
   "nbconvert_exporter": "python",
   "pygments_lexer": "ipython3",
   "version": "3.11.5"
  }
 },
 "nbformat": 4,
 "nbformat_minor": 2
}
